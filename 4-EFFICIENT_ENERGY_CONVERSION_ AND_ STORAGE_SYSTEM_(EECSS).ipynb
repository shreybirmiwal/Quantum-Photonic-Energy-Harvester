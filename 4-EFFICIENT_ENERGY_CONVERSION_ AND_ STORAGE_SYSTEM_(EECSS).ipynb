{
 "cells": [
  {
   "cell_type": "code",
   "execution_count": 7,
   "metadata": {},
   "outputs": [],
   "source": [
    "#   Global variables\n",
    "\n",
    "import math\n",
    "import pandas as pd\n",
    "import numpy as np\n",
    "\n",
    "conversion_factor = 1 #describes how effiency of energy conversion from exectonic to electric (0 - 1)\n",
    "energy_used = 0 #describes what % of the energy is used for bodily functions like respiration. 1 means that all absorbed energy is used for functioning. 0 means 0%"
   ]
  },
  {
   "cell_type": "code",
   "execution_count": null,
   "metadata": {},
   "outputs": [],
   "source": [
    "# convert the excitonic rate to an actual energy value\n",
    "\n",
    "def exciton_rate_to_energy(excitonic_rate):\n",
    "    return excitonic_rate\n",
    "    "
   ]
  },
  {
   "cell_type": "code",
   "execution_count": 8,
   "metadata": {},
   "outputs": [],
   "source": [
    "# Converts excitonic energy to electric energy\n",
    "# Excitonic energy is valuable but not directly usable by most appliances. We need to convert it into electrical\n",
    "# energy. The efficiency of this conversion process is represented by the factor η, with values between 0 (0%\n",
    "# efficient) and 1 (100% efficient)\n",
    "# Storage Mechanism:\n",
    "# Once converted, the energy is stored in specialized storage cells, similar to batteries. The amount of energy Es\n",
    "# stored at any given time is:\n",
    "\n",
    "def energyConversion(excitonic_energy):\n",
    "    convertedEnergy = excitonic_energy*conversion_factor\n",
    "    usableEnergy = convertedEnergy - (convertedEnergy * energy_used)\n",
    "    return usableEnergy"
   ]
  },
  {
   "cell_type": "code",
   "execution_count": 9,
   "metadata": {},
   "outputs": [],
   "source": [
    "df = pd.read_excel('solar_simulation_results.xlsx')\n",
    "df['Excitonic Energy'] = df['Final_Exciton_Rate_After_CMC'].apply(exciton_rate_to_energy)\n",
    "df['Usable Electric Energy'] = df['Excitonic Energy'].apply(energyConversion)\n",
    "df.to_excel('solar_simulation_results.xlsx', index=False)   "
   ]
  }
 ],
 "metadata": {
  "kernelspec": {
   "display_name": "Python 3",
   "language": "python",
   "name": "python3"
  },
  "language_info": {
   "codemirror_mode": {
    "name": "ipython",
    "version": 3
   },
   "file_extension": ".py",
   "mimetype": "text/x-python",
   "name": "python",
   "nbconvert_exporter": "python",
   "pygments_lexer": "ipython3",
   "version": "3.11.4"
  }
 },
 "nbformat": 4,
 "nbformat_minor": 2
}
