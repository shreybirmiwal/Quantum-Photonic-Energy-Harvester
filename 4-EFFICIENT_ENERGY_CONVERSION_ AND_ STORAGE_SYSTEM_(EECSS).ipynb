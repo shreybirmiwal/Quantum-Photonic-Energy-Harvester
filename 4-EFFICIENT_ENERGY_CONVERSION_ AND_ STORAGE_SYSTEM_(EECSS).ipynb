{
 "cells": [
  {
   "cell_type": "code",
   "execution_count": null,
   "metadata": {},
   "outputs": [],
   "source": [
    "#   Global variables\n",
    "\n",
    "import math\n",
    "import pandas as pd\n",
    "import numpy as np\n",
    "\n",
    "conversion_factor = 1 #describes how effiency of energy conversion from exectonic to electric (0 - 1)\n"
   ]
  },
  {
   "cell_type": "code",
   "execution_count": null,
   "metadata": {},
   "outputs": [],
   "source": [
    "# Converts excitonic energy to electric energy\n",
    "# Excitonic energy is valuable but not directly usable by most appliances. We need to convert it into electrical\n",
    "# energy. The efficiency of this conversion process is represented by the factor η, with values between 0 (0%\n",
    "# efficient) and 1 (100% efficient)\n",
    "\n",
    "def energyConversion(excitonic_energy):\n",
    "    return excitonic_energy*conversion_factor"
   ]
  },
  {
   "cell_type": "code",
   "execution_count": null,
   "metadata": {},
   "outputs": [],
   "source": [
    "# Storage Mechanism:\n",
    "# Once converted, the energy is stored in specialized storage cells, similar to batteries. The amount of energy Es\n",
    "# stored at any given time is:\n",
    "\n",
    "def energyStorage()\n",
    "    \n"
   ]
  }
 ],
 "metadata": {
  "language_info": {
   "name": "python"
  }
 },
 "nbformat": 4,
 "nbformat_minor": 2
}
