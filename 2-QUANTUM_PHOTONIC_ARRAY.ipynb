{
 "cells": [
  {
   "cell_type": "code",
   "execution_count": 2,
   "metadata": {},
   "outputs": [],
   "source": [
    "# PREREQ FOR THIS FILE!\n",
    "# MUST HAVE RESULT FROM 1-INTAKE FOLDER COPY AND PASTED INTO THIS FOLDER"
   ]
  },
  {
   "cell_type": "markdown",
   "metadata": {},
   "source": [
    "QUANTUM PHOTONIC ARRAY (QPA)\n",
    "\n",
    "\n",
    "PURPOSE:\n",
    "The Quantum Photonic Array (QPA) acts as the heart of our device. Imagine it as a special net that captures the\n",
    "sunlight brought in by the intake. Instead of just catching the sunlight, the QPA transforms it into something we can\n",
    "use more effectively: excitonic energy. This is the energy of electron-hole pairs which, in simpler terms, are pairs of\n",
    "oppositely charged particles that carry energy.\n",
    "\n",
    "\n",
    "BASIC IDEA:\n",
    "Imagine a room full of mousetraps, and each mousetrap represents a quantum dot in our QPA. When a ball\n",
    "(representing a photon from sunlight) is thrown into the room, it triggers a mousetrap, and the trap captures the\n",
    "ball’s energy. Similarly, when photons from sunlight hit the QPA, the quantum dots ”trap” their energy."
   ]
  },
  {
   "cell_type": "code",
   "execution_count": 3,
   "metadata": {},
   "outputs": [],
   "source": [
    "#   Global variables\n",
    "\n",
    "import math\n",
    "import pandas as pd\n",
    "\n",
    "absorption_coefficient = 0.02  # Absorption coefficient (α) tells us how good our quantum dots are at absorbing light. A higher α means more absorption.\n",
    "d = 5  # Thickness of the quantum dot layer"
   ]
  },
  {
   "cell_type": "code",
   "execution_count": 4,
   "metadata": {},
   "outputs": [],
   "source": [
    "#   Photon Absorption:\n",
    "#   Not all sunlight that hits the QPA will be absorbed. Some might pass through or get reflected away. To quantify the amount of light absorbed\n",
    "\n",
    "def calculate_intensity_after_qd_layer(initial_light_intensity):\n",
    "    absorbed_light_intensity = initial_light_intensity * (math.exp(-absorption_coefficient * d)) # note: math.exp already does e^x\n",
    "    return absorbed_light_intensity"
   ]
  },
  {
   "cell_type": "code",
   "execution_count": 5,
   "metadata": {},
   "outputs": [],
   "source": [
    "#   Main Function\n",
    "\n",
    "df = pd.read_excel('solar_simulation_results.xlsx')\n",
    "\n",
    "\n",
    "# Calculate how much of the solar energy is actually absorbed and not reflected by the QPA\n",
    "df['Absorbed Intensity by QPA'] = df['Intensity * Concentration factor (funnel)'].apply(calculate_intensity_after_qd_layer)\n",
    "\n",
    "\n",
    "df.to_excel('solar_simulation_results.xlsx', index=False)\n"
   ]
  }
 ],
 "metadata": {
  "kernelspec": {
   "display_name": "Python 3",
   "language": "python",
   "name": "python3"
  },
  "language_info": {
   "codemirror_mode": {
    "name": "ipython",
    "version": 3
   },
   "file_extension": ".py",
   "mimetype": "text/x-python",
   "name": "python",
   "nbconvert_exporter": "python",
   "pygments_lexer": "ipython3",
   "version": "3.11.4"
  }
 },
 "nbformat": 4,
 "nbformat_minor": 2
}
