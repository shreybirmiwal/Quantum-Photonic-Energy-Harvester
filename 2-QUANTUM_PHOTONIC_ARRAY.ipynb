{
 "cells": [
  {
   "cell_type": "code",
   "execution_count": 10,
   "metadata": {},
   "outputs": [],
   "source": [
    "# PREREQ FOR THIS FILE!\n",
    "# MUST HAVE RESULT FROM 1-INTAKE FOLDER COPY AND PASTED INTO THIS FOLDER"
   ]
  },
  {
   "cell_type": "markdown",
   "metadata": {},
   "source": [
    "QUANTUM PHOTONIC ARRAY (QPA)\n",
    "\n",
    "\n",
    "PURPOSE:\n",
    "The Quantum Photonic Array (QPA) acts as the heart of our device. Imagine it as a special net that captures the\n",
    "sunlight brought in by the intake. Instead of just catching the sunlight, the QPA transforms it into something we can\n",
    "use more effectively: excitonic energy. This is the energy of electron-hole pairs which, in simpler terms, are pairs of\n",
    "oppositely charged particles that carry energy.\n",
    "\n",
    "\n",
    "BASIC IDEA:\n",
    "Imagine a room full of mousetraps, and each mousetrap represents a quantum dot in our QPA. When a ball\n",
    "(representing a photon from sunlight) is thrown into the room, it triggers a mousetrap, and the trap captures the\n",
    "ball’s energy. Similarly, when photons from sunlight hit the QPA, the quantum dots ”trap” their energy."
   ]
  },
  {
   "cell_type": "code",
   "execution_count": 11,
   "metadata": {},
   "outputs": [],
   "source": [
    "#   Global variables\n",
    "\n",
    "import math\n",
    "import pandas as pd\n",
    "import numpy as np\n",
    "\n",
    "absorption_coefficient = 1  # Absorption coefficient (α) tells us how good our quantum dots are at absorbing light. A higher α means more absorption.\n",
    "d = 2  # Thickness of the quantum dot layer\n",
    "h = 6.62607015e-34  # Planck's constant in J·s\n",
    "c = 3.00e8  # Speed of light in m/s\n",
    "m = 1 # Mass of each quantom dot\n",
    "size_of_quantom_dot = 1 # The size of each quantom dot\n",
    "\n",
    "\n",
    "#wavelength probability distribution\n",
    "wavelength_min = 400 * 1e-9  # 400 nm\n",
    "wavelength_max = 800 * 1e-9  # 800 nm\n",
    "num_points = 1000\n",
    "wavelength_range = np.linspace(wavelength_min, wavelength_max, num_points)\n"
   ]
  },
  {
   "cell_type": "code",
   "execution_count": 12,
   "metadata": {},
   "outputs": [],
   "source": [
    "#   This class will store the state of the QPA grid at any given time\n",
    "\n",
    "class QPAGridState:\n",
    "    def __init__(self, time, layer1, layer2, layer3, energy1, energy2, energy3):\n",
    "        self.time = time\n",
    "        self.layer1 = layer1\n",
    "        self.layer2 = layer2\n",
    "        self.layer3 = layer3\n",
    "        self.energy1 = energy1\n",
    "        self.energy2 = energy2\n",
    "        self.energy3 = energy3\n",
    "\n",
    "    def __str__(self):\n",
    "        return f\"Time: {self.time}\\nLayer 1:\\n{self.layer1}\\nLayer 2:\\n{self.layer2}\\nLayer 3:\\n{self.layer3}\\nEnergy Levels: {self.energy1}, {self.energy2}, {self.energy3}\""
   ]
  },
  {
   "cell_type": "code",
   "execution_count": 13,
   "metadata": {},
   "outputs": [],
   "source": [
    "#   Photon Absorption:\n",
    "#   Not all sunlight that hits the QPA will be absorbed. Some might pass through or get reflected away. To quantify the amount of light absorbed\n",
    "\n",
    "def calculate_intensity_after_qd_layer(initial_light_intensity):\n",
    "    absorbed_light_intensity = initial_light_intensity * (math.exp(-absorption_coefficient * d)) # note: math.exp already does e^x\n",
    "    return absorbed_light_intensity"
   ]
  },
  {
   "cell_type": "code",
   "execution_count": 14,
   "metadata": {},
   "outputs": [],
   "source": [
    "#   Given the absorbed solar intensity, determine the number of photons \n",
    "\n",
    "def calculate_num_photons(solar_intensity, wavelength_range):\n",
    "    h = 6.62607015e-34  # Planck's constant in J·s\n",
    "    c = 3.00e8  # Speed of light in m/s\n",
    "    num_photons = np.zeros_like(wavelength_range)\n",
    "    \n",
    "    for i, wavelength in enumerate(wavelength_range):\n",
    "        energy_per_photon = h * c / wavelength\n",
    "        num_photons[i] = solar_intensity / energy_per_photon\n",
    "    \n",
    "    return num_photons"
   ]
  },
  {
   "cell_type": "code",
   "execution_count": 15,
   "metadata": {},
   "outputs": [],
   "source": [
    "#   Exciton Generation:\n",
    "#   Once a photon is absorbed, it’s transformed into excitonic energy. The rate at which this happens is described\n",
    "#   by: G = α × Φ\n",
    "#   Here, Φ represents the number of photons hitting the QPA. So, the product of α (our absorption factor) and Φ gives G, the rate of exciton generation\n",
    "\n",
    "def exciton_conversion_rate(photons):\n",
    "    G_rate_of_exciton = absorption_coefficient * photons\n",
    "    return G_rate_of_exciton"
   ]
  },
  {
   "cell_type": "code",
   "execution_count": 16,
   "metadata": {},
   "outputs": [],
   "source": [
    "#   Main Function\n",
    "\n",
    "df = pd.read_excel('solar_simulation_results.xlsx')\n",
    "\n",
    "\n",
    "# Calculate how much of the solar energy is actually absorbed and not reflected by the QPA\n",
    "df['Absorbed Intensity by QPA'] = df['Intensity * Concentration factor (funnel)'].apply(calculate_intensity_after_qd_layer)\n",
    "df['# of photons'] = df['Absorbed Intensity by QPA'].apply(calculate_num_photons)\n",
    "df['Rate of exciton generation'] = df['# of photons'].apply(exciton_conversion_rate)\n",
    "\n",
    "\n",
    "df.to_excel('solar_simulation_results.xlsx', index=False)\n"
   ]
  },
  {
   "cell_type": "code",
   "execution_count": 17,
   "metadata": {},
   "outputs": [],
   "source": [
    "def calculate_quantom_energy_level(level):\n",
    "   return ((level * level)*(h*h))/(8 * m * size_of_quantom_dot * size_of_quantom_dot)"
   ]
  },
  {
   "cell_type": "code",
   "execution_count": 18,
   "metadata": {},
   "outputs": [],
   "source": [
    "# simulate the grid at time = 0\n",
    "\n",
    "time = 0\n",
    "layer1 = [[0, 0, 0], [0, 0, 0], [0, 0, 0]]\n",
    "layer2 = [[0, 0, 0], [0, 0, 0], [0, 0, 0]]\n",
    "layer3 = [[0, 0, 0], [0, 0, 0], [0, 0, 0]]\n",
    "energy1 = calculate_quantom_energy_level(1)\n",
    "energy2 = calculate_quantom_energy_level(2)\n",
    "energy3 = calculate_quantom_energy_level(3)\n",
    "\n",
    "grid = QPAGridState(time, layer1, layer2, layer3, energy1, energy2, energy3)"
   ]
  }
 ],
 "metadata": {
  "kernelspec": {
   "display_name": "Python 3",
   "language": "python",
   "name": "python3"
  },
  "language_info": {
   "codemirror_mode": {
    "name": "ipython",
    "version": 3
   },
   "file_extension": ".py",
   "mimetype": "text/x-python",
   "name": "python",
   "nbconvert_exporter": "python",
   "pygments_lexer": "ipython3",
   "version": "3.11.4"
  }
 },
 "nbformat": 4,
 "nbformat_minor": 2
}
