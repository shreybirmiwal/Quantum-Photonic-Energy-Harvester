{
 "cells": [
  {
   "cell_type": "code",
   "execution_count": null,
   "metadata": {},
   "outputs": [],
   "source": [
    "import math\n",
    "\n",
    "# Constants\n",
    "latitude = 30.27  # Latitude of Austin in degrees\n",
    "intensity_at_top_of_atmosphere = 1361  # W/m^2\n",
    "aperture_area = 1.0  # Area collecting sunlight\n",
    "receiver_area = 0.1  # Area where sunlight gets focused\n",
    "\n",
    "# Functions for Solar Angles\n",
    "def solar_declination(day_of_year):\n",
    "    return 23.45 * math.sin(math.radians(360 / 365 * (day_of_year + 284)))\n",
    "\n",
    "def solar_elevation_angle(day_of_year, time):\n",
    "    delta = solar_declination(day_of_year)\n",
    "    return 90 - latitude + delta\n",
    "\n",
    "# Sunlight Intensity Calculation\n",
    "def sunlight_intensity(day_of_year, time):\n",
    "    alpha = solar_elevation_angle(day_of_year, time)\n",
    "    return intensity_at_top_of_atmosphere * math.cos(math.radians(90 - alpha))\n",
    "\n",
    "# Concentration Factor Calculation\n",
    "def concentration_factor(receiver_area, aperture_area):\n",
    "    return receiver_area / aperture_area\n",
    "\n",
    "# Simulate a day\n",
    "print(\"Time (minutes), Solar Elevation Angle (degrees), Sunlight Intensity (W/m^2), Concentration Factor\")\n",
    "for time in range(0, 1440, 15):  # 24 hours with 15-minute intervals\n",
    "    day_of_year = 1  # Assuming January 1st\n",
    "    intensity = sunlight_intensity(day_of_year, time)\n",
    "    concentration = concentration_factor(receiver_area, aperture_area)\n",
    "    print(f\"{time:04}, {solar_elevation_angle(day_of_year, time):.2f}, {intensity:.2f}, {concentration:.2f}\")\n"
   ]
  }
 ],
 "metadata": {
  "kernelspec": {
   "display_name": "Python 3",
   "language": "python",
   "name": "python3"
  },
  "language_info": {
   "name": "python",
   "version": "3.6.5"
  }
 },
 "nbformat": 4,
 "nbformat_minor": 2
}
