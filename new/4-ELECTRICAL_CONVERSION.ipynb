{
 "cells": [
  {
   "cell_type": "code",
   "execution_count": null,
   "metadata": {},
   "outputs": [],
   "source": [
    "\n",
    "conversion_factor = .689 #describes how efficiency of energy conversion from excetonic to electric (0 - 1)\n",
    "energy_used = 0 #describes what % of the energy is used for bodily functions like respiration. 1 means that all absorbed energy is used for functioning. 0 means 0%\n",
    "# convert the excitonic rate to an actual energy value\n",
    "\n",
    "def exciton_rate_to_energy(excitonic_rate):\n",
    "    power = excitonic_rate * 15.01e-3 * 1.60218e-19       #power = excitonic rate * coefficient * conversion to watts\n",
    "    return power\n",
    "    \n",
    "# Converts excitonic energy to electric energy\n",
    "# Excitonic energy is valuable but not directly usable by most appliances. We need to convert it into electrical\n",
    "# energy. The efficiency of this conversion process is represented by the factor η, with values between 0 (0%\n",
    "# efficient) and 1 (100% efficient)\n",
    "# Storage Mechanism:\n",
    "# Once converted, the energy is stored in specialized storage cells, similar to batteries. The amount of energy Es\n",
    "# stored at any given time is:\n",
    "\n",
    "def energyConversion(excitonic_energy):\n",
    "    convertedEnergy = excitonic_energy*conversion_factor\n",
    "    usableEnergy = convertedEnergy - (convertedEnergy * energy_used)\n",
    "    return usableEnergy\n",
    "\n",
    "df_results['Excitonic Energy'] = df_results['Final_Exciton_Rate_After_CMC'].apply(exciton_rate_to_energy)\n",
    "df_results['Usable Electric Energy'] = df_results['Excitonic Energy'].apply(energyConversion)\n",
    "\n",
    "# Save the results\n",
    "df_results.to_csv('solar_energy_CMC_results.csv', index=False)"
   ]
  }
 ],
 "metadata": {
  "language_info": {
   "name": "python"
  }
 },
 "nbformat": 4,
 "nbformat_minor": 2
}
