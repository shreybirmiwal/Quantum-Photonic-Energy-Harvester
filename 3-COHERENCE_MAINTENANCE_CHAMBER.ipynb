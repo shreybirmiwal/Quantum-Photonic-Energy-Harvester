{
 "cells": [
  {
   "cell_type": "code",
   "execution_count": 4,
   "metadata": {},
   "outputs": [
    {
     "name": "stderr",
     "output_type": "stream",
     "text": [
      "C:\\Users\\Shrey Birmiwal\\AppData\\Roaming\\Python\\Python311\\site-packages\\scipy\\integrate\\_ivp\\base.py:23: ComplexWarning: Casting complex values to real discards the imaginary part\n",
      "  return np.asarray(fun(t, y), dtype=dtype)\n",
      "C:\\Users\\Shrey Birmiwal\\AppData\\Roaming\\Python\\Python311\\site-packages\\scipy\\integrate\\_ivp\\base.py:23: ComplexWarning: Casting complex values to real discards the imaginary part\n",
      "  return np.asarray(fun(t, y), dtype=dtype)\n"
     ]
    },
    {
     "name": "stdout",
     "output_type": "stream",
     "text": [
      "Initial Exciton Rate: 1\n",
      "Final Exciton Rate after CMC: 0.40338105499562776\n"
     ]
    }
   ],
   "source": [
    "import numpy as np\n",
    "from scipy.integrate import solve_ivp\n",
    "import pandas as pd\n",
    "\n",
    "# Constants\n",
    "consts = {\n",
    "    'N' : 7,\n",
    "    'ω' :[1.13,0.96,0.89,1.09,0.98,1.04,0.86],\n",
    "    'γ' :[0.09780352, 0.2154919, 0.2159708 , 0.17640289, 0.15794933, 0.09051265, 0.20707075],\n",
    "    'γφ':[0.333, 0.292, 0.364, 0.228, 0.317, 0.251, 0.375],\n",
    "    'Γ' :[0.064, 0.045, 0.058, 0.077, 0.051, 0.068, 0.044],\n",
    "    'J' :[[0.45, 0.03, 0.38, 0.47, 0.29, 0.08, 0.41],\n",
    "        [0.10, 0.40, 0.48, 0.11, 0.30, 0.17, 0.15],\n",
    "        [0.01, 0.43, 0.19, 0.36, 0.05, 0.14, 0.22],\n",
    "        [0.35, 0.33, 0.27, 0.25, 0.49, 0.44, 0.42],\n",
    "        [0.39, 0.26, 0.18, 0.50, 0.07, 0.20, 0.16],\n",
    "        [0.48, 0.37, 0.45, 0.25, 0.31, 0.17, 0.35],\n",
    "        [0.02, 0.19, 0.34, 0.28, 0.46, 0.40, 0.21]],\n",
    "}\n",
    "\n",
    "# Pauli matrices\n",
    "pauli = {\n",
    "    '+': np.array([[0, 1], [0, 0]]),\n",
    "    '-': np.array([[0, 0], [1, 0]]),\n",
    "    'z': np.array([[1, 0], [0, -1]])\n",
    "}\n",
    "\n",
    "# Functions\n",
    "def sigma(i, op):\n",
    "    return np.kron(np.eye(2**i), np.kron(pauli[op], np.eye(2**(consts['N']-i-1))))\n",
    "\n",
    "def H():\n",
    "    N = consts['N']\n",
    "    ω = consts['ω']\n",
    "    J = consts['J']\n",
    "    H_val = np.zeros((2**N, 2**N))\n",
    "    for i in range(N):\n",
    "        H_val += ω[i] * sigma(i, 'z')\n",
    "        for j in range(i+1, N):\n",
    "            H_val += J[i][j] * (sigma(i, '+') @ sigma(j, '-') + sigma(i, '-') @ sigma(j, '+'))\n",
    "    return H_val\n",
    "\n",
    "def anticomm(A, B, C):\n",
    "    return np.dot(A, np.dot(B, C)) + np.dot(B, np.dot(A, C))\n",
    "\n",
    "def decay(rho, i):\n",
    "    return consts['γ'][i] * (sigma(i, '-') @ rho @ sigma(i, '+') - 0.5 * anticomm(sigma(i, '+'), sigma(i, '-'), rho))\n",
    "\n",
    "def dephase(rho, i):\n",
    "    return consts['γφ'][i] * (sigma(i, 'z') @ rho @ sigma(i, 'z') - rho)\n",
    "\n",
    "def emit(rho, i):\n",
    "    return consts['Γ'][i] * (sigma(i, '-') @ rho @ sigma(i, '+'))\n",
    "\n",
    "def rhs(t, rho_vec):\n",
    "    rho = rho_vec.reshape((2**consts['N'], 2**consts['N']))\n",
    "    dρdt = -1j*np.dot(H(), rho) + 1j*np.dot(rho, H())\n",
    "    for i in range(consts['N']):\n",
    "        dρdt += decay(rho, i) + dephase(rho, i) + emit(rho, i)\n",
    "    return dρdt.flatten()\n",
    "\n",
    "def simulate_CMC(G_initial):\n",
    "    rho0 = np.eye(2**consts['N']) / 2**consts['N']\n",
    "    times = np.linspace(0, 10, 100)\n",
    "    result = solve_ivp(rhs, (0, 10), rho0.flatten(), t_eval=times)\n",
    "    P_excited = np.kron([[0, 0], [0, 1]], np.eye(2**(consts['N']-1)))\n",
    "    G_final = G_initial * np.trace(np.dot(P_excited, result.y[:, -1].reshape((2**consts['N'], 2**consts['N']))))\n",
    "    return G_final\n",
    "\n",
    "# Simulate and print final rate\n",
    "if __name__ == \"__main__\":\n",
    "    df = pd.read_excel('solar_simulation_results.xlsx')\n",
    "    df['Final_Exciton_Rate_After_CMC'] = df['Rate of exciton generation'].apply(simulate_CMC)\n",
    "    df.to_excel('solar_simulation_results.xlsx', index=False)\n",
    "\n",
    "\n",
    "    G_initial = 1\n",
    "    G_final = simulate_CMC(G_initial)\n",
    "    print(f\"Initial Exciton Rate: {G_initial}\")\n",
    "    print(f\"Final Exciton Rate after CMC: {G_final}\")"
   ]
  }
 ],
 "metadata": {
  "kernelspec": {
   "display_name": "Python 3",
   "language": "python",
   "name": "python3"
  },
  "language_info": {
   "codemirror_mode": {
    "name": "ipython",
    "version": 3
   },
   "file_extension": ".py",
   "mimetype": "text/x-python",
   "name": "python",
   "nbconvert_exporter": "python",
   "pygments_lexer": "ipython3",
   "version": "3.11.4"
  }
 },
 "nbformat": 4,
 "nbformat_minor": 2
}
