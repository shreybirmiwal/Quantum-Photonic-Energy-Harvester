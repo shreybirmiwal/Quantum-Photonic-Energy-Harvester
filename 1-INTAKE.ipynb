{
 "cells": [
  {
   "cell_type": "markdown",
   "metadata": {},
   "source": [
    "INTAKE\n",
    "\n",
    "Purpose: The intake is like the ”entry door” for sunlight. It’s designed to gather as much sunlight as possible and\n",
    "guide it into the Quantum Photonic Array.\n",
    "\n",
    "Basic Idea: Imagine using a magnifying glass to focus sunlight on a tiny spot; the intake works on a similar\n",
    "principle. It collects a large amount of sunlight and concentrates or ”focuses” it onto a smaller area, increasing the\n",
    "energy densit"
   ]
  },
  {
   "cell_type": "code",
   "execution_count": 31,
   "metadata": {},
   "outputs": [],
   "source": [
    "#   Global variables\n",
    "\n",
    "import math\n",
    "import pandas as pd\n",
    "\n",
    "simulated_day = 1\n",
    "latitude = 30.27  # Latitude of Austin\n",
    "longtitude = 97.73 #Longitude of Austin\n",
    "intensity_at_top_of_atmosphere = 1361  # W/m^2\n",
    "concentration_factor = 100  # How much sunlight is being concentrated into funnel"
   ]
  },
  {
   "cell_type": "code",
   "execution_count": 32,
   "metadata": {},
   "outputs": [],
   "source": [
    "#   SOLAR DECLINATION ANGLE\n",
    "#   The solar declination angle (δ) varies throughout the year. It can be estimated using the day of the year d\n",
    "\n",
    "#   Where day_of_year = 1 represents January 1st.\n",
    "def solar_declination(day_of_year):\n",
    "    return 23.45 * math.sin(math.radians(360 / 365 * (day_of_year + 284)))"
   ]
  },
  {
   "cell_type": "code",
   "execution_count": 33,
   "metadata": {},
   "outputs": [],
   "source": [
    "#   SOLAR ELEVATION ANGLE\n",
    "#   The solar elevation angle (α) at solar noon can be determined using the solar declination and Austin’s latitude\n",
    "#   Where day_of_year = 1 represents January 1st.\n",
    "\n",
    "def solar_elevation_angle(day_of_year, hour):\n",
    "    \n",
    "    delta = solar_declination(day_of_year)\n",
    "    LST = hour + 4*(90 - longtitude)/60\n",
    "    H = 15 * (LST - 12)\n",
    "    elevationAngle = math.degrees(math.asin(math.sin(delta) * math.sin(latitude) + math.cos(delta) * math.cos(latitude) * math.cos(H)))\n",
    "\n",
    "    return elevationAngle"
   ]
  },
  {
   "cell_type": "code",
   "execution_count": 34,
   "metadata": {},
   "outputs": [],
   "source": [
    "#   SUNLIGHT INTENSITY\n",
    "#   The intensity of sunlight (I0(t)) on a clear day outside the Earth’s atmosphere is approximately 1361 W/m2\n",
    "#   This intensity varies based on the angle of the sun and can be modeled using the cosine of the zenith angle:\n",
    "\n",
    "#   Where day_of_year = 1 represents January 1st.\n",
    "def sunlight_intensity(day_of_year, hour):\n",
    "    alpha = solar_elevation_angle(day_of_year, hour)\n",
    "    return intensity_at_top_of_atmosphere * math.cos(math.radians(90 - alpha))"
   ]
  },
  {
   "cell_type": "code",
   "execution_count": 35,
   "metadata": {},
   "outputs": [],
   "source": [
    "#   Main Function\n",
    "#   Run simulation and save it into pandas dataframe that will be put into excel file\n",
    "\n",
    "results = []\n",
    "for day in range(0, 7, 1):  # Simulate each day\n",
    "\n",
    "    for hour in range(0, 24, 1):  # Simulate each hour\n",
    "\n",
    "        declination_angle = solar_declination(day)\n",
    "        elevation_angle = solar_elevation_angle(day, hour)\n",
    "        intensity = sunlight_intensity(day, hour)\n",
    "        concentrated_value = concentration_factor * intensity\n",
    "        \n",
    "\n",
    "        results.append([day, hour, declination_angle, elevation_angle, intensity, concentration_factor, concentrated_value])\n",
    "\n",
    "df = pd.DataFrame(results, columns=[\"Simulated Day\", \"Hour of Day\", \"Solar Declination Angle\", \"Solar Elevation Angle (degrees)\", \"Sunlight Intensity (W/m^2)\", \"Concentration Factor\", \"Intensity * Concentration factor (funnel)\"])\n",
    "df.to_excel(\"solar_simulation_results.xlsx\", index=False)"
   ]
  }
 ],
 "metadata": {
  "kernelspec": {
   "display_name": "Python 3",
   "language": "python",
   "name": "python3"
  },
  "language_info": {
   "codemirror_mode": {
    "name": "ipython",
    "version": 3
   },
   "file_extension": ".py",
   "mimetype": "text/x-python",
   "name": "python",
   "nbconvert_exporter": "python",
   "pygments_lexer": "ipython3",
   "version": "3.11.4"
  }
 },
 "nbformat": 4,
 "nbformat_minor": 2
}
