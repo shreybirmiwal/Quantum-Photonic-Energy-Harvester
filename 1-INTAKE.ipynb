{
 "cells": [
  {
   "cell_type": "markdown",
   "metadata": {},
   "source": [
    "INTAKE\n",
    "\n",
    "Purpose: The intake is like the ”entry door” for sunlight. It’s designed to gather as much sunlight as possible and\n",
    "guide it into the Quantum Photonic Array.\n",
    "\n",
    "Basic Idea: Imagine using a magnifying glass to focus sunlight on a tiny spot; the intake works on a similar\n",
    "principle. It collects a large amount of sunlight and concentrates or ”focuses” it onto a smaller area, increasing the\n",
    "energy densit"
   ]
  },
  {
   "cell_type": "code",
   "execution_count": 1,
   "metadata": {},
   "outputs": [],
   "source": [
    "#   Global variables\n",
    "\n",
    "import math\n",
    "import pandas as pd\n",
    "\n",
    "simulated_day = 1\n",
    "latitude = 30.27  # Latitude of Austin\n",
    "intensity_at_top_of_atmosphere = 1361  # W/m^2\n",
    "concentration_factor = 100  # How much sunlight is being concentrated into funnel"
   ]
  },
  {
   "cell_type": "code",
   "execution_count": 2,
   "metadata": {},
   "outputs": [],
   "source": [
    "#   SOLAR DECLINATION ANGLE\n",
    "#   The solar declination angle (δ) varies throughout the year. It can be estimated using the day of the year d\n",
    "\n",
    "#   Where day_of_year = 1 represents January 1st.\n",
    "def solar_declination(day_of_year):\n",
    "    return 23.45 * math.sin(math.radians(360 / 365 * (day_of_year + 284)))"
   ]
  },
  {
   "cell_type": "code",
   "execution_count": 3,
   "metadata": {},
   "outputs": [],
   "source": [
    "#   SOLAR ELEVATION ANGLE\n",
    "#   The solar elevation angle (α) at solar noon can be determined using the solar declination and Austin’s latitude\n",
    "\n",
    "#   Where day_of_year = 1 represents January 1st.\n",
    "def solar_elevation_angle(day_of_year):\n",
    "    delta = solar_declination(day_of_year)\n",
    "    return 90 - latitude + delta"
   ]
  },
  {
   "cell_type": "code",
   "execution_count": 4,
   "metadata": {},
   "outputs": [],
   "source": [
    "#   SUNLIGHT INTENSITY\n",
    "#   The intensity of sunlight (I0(t)) on a clear day outside the Earth’s atmosphere is approximately 1361 W/m2\n",
    "#   This intensity varies based on the angle of the sun and can be modeled using the cosine of the zenith angle:\n",
    "\n",
    "#   Where day_of_year = 1 represents January 1st.\n",
    "def sunlight_intensity(day_of_year):\n",
    "    alpha = solar_elevation_angle(day_of_year)\n",
    "    return intensity_at_top_of_atmosphere * math.cos(math.radians(90 - alpha))"
   ]
  },
  {
   "cell_type": "code",
   "execution_count": 7,
   "metadata": {},
   "outputs": [],
   "source": [
    "#   Main Function\n",
    "#   Run simulation and save it into pandas dataframe that will be put into excel file\n",
    "\n",
    "results = []\n",
    "for time in range(0, 7, 1):  # Simulate each day\n",
    "\n",
    "    sim_day = simulated_day\n",
    "    declination_angle = solar_declination(sim_day)\n",
    "    elevation_angle = solar_elevation_angle(sim_day)\n",
    "    intensity = sunlight_intensity(sim_day)\n",
    "    concentrated_value = concentration_factor * intensity\n",
    "    \n",
    "\n",
    "    results.append([sim_day, declination_angle, elevation_angle, intensity, concentration_factor, concentrated_value])\n",
    "    simulated_day += 1\n",
    "\n",
    "df = pd.DataFrame(results, columns=[\"Simulated Day\", \"Solar Declination Angle\", \"Solar Elevation Angle (degrees)\", \"Sunlight Intensity (W/m^2)\", \"Concentration Factor\", \"Intensity * Concentration factor (funnel)\"])\n",
    "df.to_excel(\"solar_simulation_results.xlsx\", index=False)"
   ]
  }
 ],
 "metadata": {
  "kernelspec": {
   "display_name": "Python 3",
   "language": "python",
   "name": "python3"
  },
  "language_info": {
   "codemirror_mode": {
    "name": "ipython",
    "version": 3
   },
   "file_extension": ".py",
   "mimetype": "text/x-python",
   "name": "python",
   "nbconvert_exporter": "python",
   "pygments_lexer": "ipython3",
   "version": "3.11.4"
  }
 },
 "nbformat": 4,
 "nbformat_minor": 2
}
