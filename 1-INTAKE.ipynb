{
 "cells": [
  {
   "cell_type": "markdown",
   "metadata": {},
   "source": [
    "INTAKE\n",
    "\n",
    "Purpose: The intake is like the ”entry door” for sunlight. It’s designed to gather as much sunlight as possible and\n",
    "guide it into the Quantum Photonic Array.\n",
    "\n",
    "Basic Idea: Imagine using a magnifying glass to focus sunlight on a tiny spot; the intake works on a similar\n",
    "principle. It collects a large amount of sunlight and concentrates or ”focuses” it onto a smaller area, increasing the\n",
    "energy densit"
   ]
  },
  {
   "cell_type": "code",
   "execution_count": 9,
   "metadata": {},
   "outputs": [],
   "source": [
    "#   SUNLIGHT INTENSITY\n",
    "#   The intensity of sunlight (I0(t)) on a clear day outside the Earth’s atmosphere is approximately 1361 W/m2\n",
    "#   This intensity varies based on the angle of the sun and can be modeled using the cosine of the zenith angle:\n",
    "\n",
    "#   Where day_of_year = 1 represents January 1st.\n"
   ]
  },
  {
   "cell_type": "code",
   "execution_count": 4,
   "metadata": {},
   "outputs": [],
   "source": [
    "import math\n",
    "import pandas as pd\n",
    "from datetime import datetime, timedelta\n",
    "\n",
    "def solar_declination_angle(day_of_year):\n",
    "    # Calculate the Solar Declination Angle\n",
    "    return 23.45 * math.sin(math.radians((360/365) * (day_of_year - 81)))\n",
    "\n",
    "def solar_elevation_angle(latitude, longitude, day_of_year, hour):\n",
    "    # Calculate the Solar Elevation Angle\n",
    "    solar_declination = solar_declination_angle(day_of_year)\n",
    "    hour_angle = 15 * (hour - 12)  # Assuming solar noon is at 12:00 PM\n",
    "    return math.degrees(math.asin(\n",
    "        math.sin(math.radians(latitude)) * math.sin(math.radians(solar_declination)) +\n",
    "        math.cos(math.radians(latitude)) * math.cos(math.radians(solar_declination)) * math.cos(math.radians(hour_angle))\n",
    "    ))\n",
    "\n",
    "def sunlight_intensity(solar_elevation_angle):\n",
    "    # Calculate Sunlight Intensity (a simple example, actual intensity depends on various factors)\n",
    "    return math.sin(math.radians(solar_elevation_angle))\n",
    "\n",
    "results = []\n",
    "\n",
    "for day in range(0, 7, 1):  # Simulate each day\n",
    "    for hour in range(0, 24, 1):  # Simulate each hour\n",
    "        simulated_date = datetime(2023, 1, 1) + timedelta(days=day, hours=hour)\n",
    "        day_of_year = (simulated_date - datetime(simulated_date.year, 1, 1)).days + 1\n",
    "\n",
    "        declination_angle = solar_declination_angle(day_of_year)\n",
    "        elevation_angle = solar_elevation_angle(latitude, longitude, day_of_year, hour)\n",
    "        intensity = sunlight_intensity(elevation_angle)\n",
    "\n",
    "        results.append([simulated_date, day, hour, declination_angle, elevation_angle, intensity])\n",
    "\n",
    "df = pd.DataFrame(results, columns=[\"Simulated Date\", \"Simulated Day\", \"Hour of Day\", \"Solar Declination Angle\", \"Solar Elevation Angle (degrees)\", \"Sunlight Intensity (W/m^2)\"])\n",
    "df.to_csv(\"solar_simulation_results.csv\", index=False)\n"
   ]
  },
  {
   "cell_type": "code",
   "execution_count": 1,
   "metadata": {},
   "outputs": [
    {
     "name": "stdout",
     "output_type": "stream",
     "text": [
      "Solar Declination Angle: 18.791917517696163 degrees\n",
      "Solar Elevation Angle: 57.71089453610831 degrees\n",
      "Sunlight Intensity: 0.8453634226492005\n"
     ]
    }
   ],
   "source": [
    "import math\n",
    "import pandas as pd\n",
    "intensity_at_top_of_atmosphere = 1361  # W/m^2\n",
    "concentration_factor = 100\n",
    "\n",
    "def solar_declination(d, h):\n",
    "    # Convert angles to radians for calculations\n",
    "    fracyear = 2*math.pi/365 * (d - 1 +(h - 12)/24)\n",
    "\n",
    "    delta = math.degrees(0.006918 - 0.399912 * math.cos(fracyear) + 0.070257 * math.sin(fracyear) - 0.006758 * math.cos(2 * fracyear) + 0.000907 * math.sin(2 * fracyear) - 0.002697 * math.cos(3 * fracyear) + 0.00148 * math.sin(3 * fracyear))\n",
    "    return delta\n",
    "\n",
    "def calc_elevation_angle(d, ho, longitude=97.74, latitude=30.266666666666666):\n",
    "    h = ho + 6\n",
    "    fracyear = 2*math.pi/365 * (d - 1 +(h - 12)/24)\n",
    "    # Equation of Time\n",
    "    eqtime = 229.17 * (0.000075 + 0.001868 * math.cos(fracyear) - 0.032077 * math.sin(fracyear) - 0.014615 * math.cos(2 * fracyear) - 0.040849 * math.sin( 2 * fracyear))\n",
    "    \n",
    "    # Calculate the Time Offset\n",
    "    time_offset = eqtime - 4 * longitude\n",
    "    \n",
    "    # True Solar Time in minutes\n",
    "    tst = (h * 60 + time_offset) % 1440  # Modulo 1440 to keep within 24 hours\n",
    "    \n",
    "    # Hour angle\n",
    "    if tst < 720:  # Before solar noon\n",
    "        ha = math.radians(tst/4 - 180)\n",
    "    else:  # After solar noon\n",
    "        ha = math.radians(tst/4 - 180 - 360)\n",
    "    \n",
    "    delta = math.radians(solar_declination(d, h))\n",
    "    \n",
    "    zenith = math.degrees(math.acos(math.sin(math.radians(latitude)) * math.sin(delta) + math.cos(math.radians(latitude)) * math.cos(delta) * math.cos(ha)))\n",
    "\n",
    "    psi = 90 - zenith\n",
    "    return psi\n",
    "\n",
    "\n",
    "def sunlight_intensity(solar_elevation_angle):\n",
    "    return intensity_at_top_of_atmosphere * math.cos(math.radians(90 - solar_elevation_angle))\n",
    "\n",
    "\n",
    "results = []\n",
    "for day in range(0, 7, 1):  # Simulate each day\n",
    "\n",
    "    for hour in range(0, 24, 1):  # Simulate each hour\n",
    "\n",
    "        declination_angle = solar_declination(day, hour)\n",
    "        elevation_angle = calc_elevation_angle(day, hour)\n",
    "        intensity = sunlight_intensity(elevation_angle)\n",
    "        concentrated_value = concentration_factor * intensity\n",
    "        \n",
    "\n",
    "        results.append([day, hour, declination_angle, elevation_angle, intensity, concentration_factor, concentrated_value])\n",
    "\n",
    "df = pd.DataFrame(results, columns=[\"Simulated Day\", \"Hour of Day\", \"Solar Declination Angle\", \"Solar Elevation Angle (degrees)\", \"Sunlight Intensity (W/m^2)\", \"Concentration Factor\", \"Intensity * Concentration factor (funnel)\"])\n",
    "df.to_csv(\"solar_simulation_results.csv\", index=False)"
   ]
  }
 ],
 "metadata": {
  "kernelspec": {
   "display_name": "Python 3",
   "language": "python",
   "name": "python3"
  },
  "language_info": {
   "codemirror_mode": {
    "name": "ipython",
    "version": 3
   },
   "file_extension": ".py",
   "mimetype": "text/x-python",
   "name": "python",
   "nbconvert_exporter": "python",
   "pygments_lexer": "ipython3",
   "version": "3.12.0"
  }
 },
 "nbformat": 4,
 "nbformat_minor": 2
}
