{
 "cells": [
  {
   "cell_type": "markdown",
   "metadata": {},
   "source": [
    "INTAKE\n",
    "\n",
    "Purpose: The intake is like the ”entry door” for sunlight. It’s designed to gather as much sunlight as possible and\n",
    "guide it into the Quantum Photonic Array.\n",
    "\n",
    "Basic Idea: Imagine using a magnifying glass to focus sunlight on a tiny spot; the intake works on a similar\n",
    "principle. It collects a large amount of sunlight and concentrates or ”focuses” it onto a smaller area, increasing the\n",
    "energy densit"
   ]
  },
  {
   "cell_type": "code",
   "execution_count": 9,
   "metadata": {},
   "outputs": [],
   "source": [
    "#   SUNLIGHT INTENSITY\n",
    "#   The intensity of sunlight (I0(t)) on a clear day outside the Earth’s atmosphere is approximately 1361 W/m2\n",
    "#   This intensity varies based on the angle of the sun and can be modeled using the cosine of the zenith angle:\n",
    "\n",
    "#   Where day_of_year = 1 represents January 1st.\n"
   ]
  },
  {
   "cell_type": "code",
   "execution_count": 3,
   "metadata": {},
   "outputs": [],
   "source": [
    "latitude = 30.266666\n",
    "longitude = -97.733330\n",
    "# austin's cordinates\n",
    "\n",
    "import math\n",
    "import pandas as pd\n",
    "from datetime import datetime, timedelta\n",
    "\n",
    "def solar_declination_angle(day_of_year):\n",
    "    # Calculate the Solar Declination Angle\n",
    "    return -23.44 * math.cos(math.radians((360/365) * (day_of_year + 10)))\n",
    "\n",
    "def solar_elevation_angle(latitude, longitude, day_of_year, hour):\n",
    "    # Calculate the Solar Elevation Angle\n",
    "    solar_declination = solar_declination_angle(day_of_year)\n",
    "    hour_angle = 15 * (hour - 12)  # Assuming solar noon is at 12:00 PM\n",
    "    return math.degrees(math.asin(\n",
    "        math.sin(math.radians(latitude)) * math.sin(math.radians(solar_declination)) +\n",
    "        math.cos(math.radians(latitude)) * math.cos(math.radians(solar_declination)) * math.cos(math.radians(hour_angle))\n",
    "    ))\n",
    "\n",
    "def sunlight_intensity(solar_elevation_angle):\n",
    "    # Calculate Sunlight Intensity (a simple example, actual intensity depends on various factors)\n",
    "    return math.sin(math.radians(solar_elevation_angle))\n",
    "\n",
    "results = []\n",
    "\n",
    "for day in range(0, 7, 1):  # Simulate each day\n",
    "    for hour in range(0, 24, 1):  # Simulate each hour\n",
    "        simulated_date = datetime(2023, 1, 1) + timedelta(days=day, hours=hour)\n",
    "        day_of_year = (simulated_date - datetime(simulated_date.year, 1, 1)).days + 1\n",
    "\n",
    "        declination_angle = solar_declination_angle(day_of_year)\n",
    "        elevation_angle = solar_elevation_angle(latitude, longitude, day_of_year, hour)\n",
    "        intensity = sunlight_intensity(elevation_angle)\n",
    "\n",
    "        results.append([simulated_date, day, hour, declination_angle, elevation_angle, intensity])\n",
    "\n",
    "df = pd.DataFrame(results, columns=[\"Simulated Date\", \"Simulated Day\", \"Hour of Day\", \"Solar Declination Angle\", \"Solar Elevation Angle (degrees)\", \"Sunlight Intensity (W/m^2)\"])\n",
    "df.to_csv(\"solar_simulation_results.csv\", index=False)\n"
   ]
  }
 ],
 "metadata": {
  "kernelspec": {
   "display_name": "Python 3",
   "language": "python",
   "name": "python3"
  },
  "language_info": {
   "codemirror_mode": {
    "name": "ipython",
    "version": 3
   },
   "file_extension": ".py",
   "mimetype": "text/x-python",
   "name": "python",
   "nbconvert_exporter": "python",
   "pygments_lexer": "ipython3",
   "version": "3.12.0"
  }
 },
 "nbformat": 4,
 "nbformat_minor": 2
}
