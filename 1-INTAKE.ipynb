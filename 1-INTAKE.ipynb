{
 "cells": [
  {
   "cell_type": "markdown",
   "metadata": {},
   "source": [
    "INTAKE\n",
    "\n",
    "Purpose: The intake is like the ”entry door” for sunlight. It’s designed to gather as much sunlight as possible and\n",
    "guide it into the Quantum Photonic Array.\n",
    "\n",
    "Basic Idea: Imagine using a magnifying glass to focus sunlight on a tiny spot; the intake works on a similar\n",
    "principle. It collects a large amount of sunlight and concentrates or ”focuses” it onto a smaller area, increasing the\n",
    "energy densit"
   ]
  },
  {
   "cell_type": "code",
   "execution_count": 49,
   "metadata": {},
   "outputs": [],
   "source": [
    "#   Global variables\n",
    "\n",
    "import math\n",
    "import pandas as pd\n",
    "\n",
    "simulated_day = 1\n",
    "latitude = 30.27  # Latitude of Austin\n",
    "longtitude = 97.74 #Longitude of Austin\n",
    "intensity_at_top_of_atmosphere = 1361  # W/m^2\n",
    "concentration_factor = 100  # How much sunlight is being concentrated into funnel"
   ]
  },
  {
   "cell_type": "code",
   "execution_count": 50,
   "metadata": {},
   "outputs": [],
   "source": [
    "#   SOLAR DECLINATION ANGLE\n",
    "#   The solar declination angle (δ) varies throughout the year. It can be estimated using the day of the year d\n",
    "\n",
    "#   Where day_of_year = 1 represents January 1st.\n",
    "def solar_declination(day_of_year):\n",
    "    return 23.45 * math.sin(math.degrees(360 / 365 * (day_of_year + 284)))"
   ]
  },
  {
   "cell_type": "code",
   "execution_count": 51,
   "metadata": {},
   "outputs": [],
   "source": [
    "#   SOLAR ELEVATION ANGLE\n",
    "#   The solar elevation angle (α) at solar noon can be determined using the solar declination and Austin’s latitude\n",
    "#   Where day_of_year = 1 represents January 1st.\n",
    "\n",
    "def solar_elevation_angle(day_of_year, hour):\n",
    "    # Convert latitude and longitude to radians\n",
    "    latitude = math.radians(latitude)\n",
    "    longitude = math.radians(longitude)\n",
    "\n",
    "    delta = solar_declination(day_of_year)\n",
    "    LST = hour + (longitude / 15.0)  # Longitude should be in degrees, LST in hours\n",
    "    H = 15 * (LST - 12)\n",
    "    \n",
    "    # Convert delta, latitude, and H to radians\n",
    "    delta = math.radians(delta)\n",
    "    H = math.radians(H)\n",
    "\n",
    "    elevationAngle_radians = math.asin(math.sin(delta) * math.sin(latitude) + math.cos(delta) * math.cos(latitude) * math.cos(H))\n",
    "    elevationAngle_degrees = math.degrees(elevationAngle_radians)\n",
    "\n",
    "    if day_of_year == 0 and hour == 11:\n",
    "        print(\"delta \" + str(delta))\n",
    "        print(\"LST \" + str(LST))\n",
    "        print(\"H \" + str(H))\n",
    "        print(\"Elevation angle rad \" + str(elevationAngle_radians))\n",
    "        print(\"Elevation angle deg \" + str(elevationAngle_degrees))\n",
    "\n",
    "    return elevationAngle_degrees"
   ]
  },
  {
   "cell_type": "code",
   "execution_count": 52,
   "metadata": {},
   "outputs": [],
   "source": [
    "#   SUNLIGHT INTENSITY\n",
    "#   The intensity of sunlight (I0(t)) on a clear day outside the Earth’s atmosphere is approximately 1361 W/m2\n",
    "#   This intensity varies based on the angle of the sun and can be modeled using the cosine of the zenith angle:\n",
    "\n",
    "#   Where day_of_year = 1 represents January 1st.\n",
    "def sunlight_intensity(day_of_year, hour):\n",
    "    alpha = solar_elevation_angle(day_of_year, hour)\n",
    "    return intensity_at_top_of_atmosphere * math.cos(math.radians(90 - alpha))"
   ]
  },
  {
   "cell_type": "code",
   "execution_count": 53,
   "metadata": {},
   "outputs": [
    {
     "ename": "UnboundLocalError",
     "evalue": "cannot access local variable 'latitude' where it is not associated with a value",
     "output_type": "error",
     "traceback": [
      "\u001b[1;31m---------------------------------------------------------------------------\u001b[0m",
      "\u001b[1;31mUnboundLocalError\u001b[0m                         Traceback (most recent call last)",
      "\u001b[1;32mc:\\Users\\Shrey Birmiwal\\Desktop\\Shrey\\QPEH\\1-INTAKE.ipynb Cell 6\u001b[0m line \u001b[0;36m1\n\u001b[0;32m      <a href='vscode-notebook-cell:/c%3A/Users/Shrey%20Birmiwal/Desktop/Shrey/QPEH/1-INTAKE.ipynb#W5sZmlsZQ%3D%3D?line=6'>7</a>\u001b[0m \u001b[39mfor\u001b[39;00m hour \u001b[39min\u001b[39;00m \u001b[39mrange\u001b[39m(\u001b[39m0\u001b[39m, \u001b[39m24\u001b[39m, \u001b[39m1\u001b[39m):  \u001b[39m# Simulate each hour\u001b[39;00m\n\u001b[0;32m      <a href='vscode-notebook-cell:/c%3A/Users/Shrey%20Birmiwal/Desktop/Shrey/QPEH/1-INTAKE.ipynb#W5sZmlsZQ%3D%3D?line=8'>9</a>\u001b[0m     declination_angle \u001b[39m=\u001b[39m solar_declination(day)\n\u001b[1;32m---> <a href='vscode-notebook-cell:/c%3A/Users/Shrey%20Birmiwal/Desktop/Shrey/QPEH/1-INTAKE.ipynb#W5sZmlsZQ%3D%3D?line=9'>10</a>\u001b[0m     elevation_angle \u001b[39m=\u001b[39m solar_elevation_angle(day, hour)\n\u001b[0;32m     <a href='vscode-notebook-cell:/c%3A/Users/Shrey%20Birmiwal/Desktop/Shrey/QPEH/1-INTAKE.ipynb#W5sZmlsZQ%3D%3D?line=10'>11</a>\u001b[0m     intensity \u001b[39m=\u001b[39m sunlight_intensity(day, hour)\n\u001b[0;32m     <a href='vscode-notebook-cell:/c%3A/Users/Shrey%20Birmiwal/Desktop/Shrey/QPEH/1-INTAKE.ipynb#W5sZmlsZQ%3D%3D?line=11'>12</a>\u001b[0m     concentrated_value \u001b[39m=\u001b[39m concentration_factor \u001b[39m*\u001b[39m intensity\n",
      "\u001b[1;32mc:\\Users\\Shrey Birmiwal\\Desktop\\Shrey\\QPEH\\1-INTAKE.ipynb Cell 6\u001b[0m line \u001b[0;36m7\n\u001b[0;32m      <a href='vscode-notebook-cell:/c%3A/Users/Shrey%20Birmiwal/Desktop/Shrey/QPEH/1-INTAKE.ipynb#W5sZmlsZQ%3D%3D?line=4'>5</a>\u001b[0m \u001b[39mdef\u001b[39;00m \u001b[39msolar_elevation_angle\u001b[39m(day_of_year, hour):\n\u001b[0;32m      <a href='vscode-notebook-cell:/c%3A/Users/Shrey%20Birmiwal/Desktop/Shrey/QPEH/1-INTAKE.ipynb#W5sZmlsZQ%3D%3D?line=5'>6</a>\u001b[0m     \u001b[39m# Convert latitude and longitude to radians\u001b[39;00m\n\u001b[1;32m----> <a href='vscode-notebook-cell:/c%3A/Users/Shrey%20Birmiwal/Desktop/Shrey/QPEH/1-INTAKE.ipynb#W5sZmlsZQ%3D%3D?line=6'>7</a>\u001b[0m     latitude \u001b[39m=\u001b[39m math\u001b[39m.\u001b[39mradians(latitude)\n\u001b[0;32m      <a href='vscode-notebook-cell:/c%3A/Users/Shrey%20Birmiwal/Desktop/Shrey/QPEH/1-INTAKE.ipynb#W5sZmlsZQ%3D%3D?line=7'>8</a>\u001b[0m     longitude \u001b[39m=\u001b[39m math\u001b[39m.\u001b[39mradians(longitude)\n\u001b[0;32m     <a href='vscode-notebook-cell:/c%3A/Users/Shrey%20Birmiwal/Desktop/Shrey/QPEH/1-INTAKE.ipynb#W5sZmlsZQ%3D%3D?line=9'>10</a>\u001b[0m     delta \u001b[39m=\u001b[39m solar_declination(day_of_year)\n",
      "\u001b[1;31mUnboundLocalError\u001b[0m: cannot access local variable 'latitude' where it is not associated with a value"
     ]
    }
   ],
   "source": [
    "#   Main Function\n",
    "#   Run simulation and save it into pandas dataframe that will be put into excel file\n",
    "\n",
    "results = []\n",
    "for day in range(0, 7, 1):  # Simulate each day\n",
    "\n",
    "    for hour in range(0, 24, 1):  # Simulate each hour\n",
    "\n",
    "        declination_angle = solar_declination(day)\n",
    "        elevation_angle = solar_elevation_angle(day, hour)\n",
    "        intensity = sunlight_intensity(day, hour)\n",
    "        concentrated_value = concentration_factor * intensity\n",
    "        \n",
    "\n",
    "        results.append([day, hour, declination_angle, elevation_angle, intensity, concentration_factor, concentrated_value])\n",
    "\n",
    "df = pd.DataFrame(results, columns=[\"Simulated Day\", \"Hour of Day\", \"Solar Declination Angle\", \"Solar Elevation Angle (degrees)\", \"Sunlight Intensity (W/m^2)\", \"Concentration Factor\", \"Intensity * Concentration factor (funnel)\"])\n",
    "df.to_excel(\"solar_simulation_results.xlsx\", index=False)"
   ]
  }
 ],
 "metadata": {
  "kernelspec": {
   "display_name": "Python 3",
   "language": "python",
   "name": "python3"
  },
  "language_info": {
   "codemirror_mode": {
    "name": "ipython",
    "version": 3
   },
   "file_extension": ".py",
   "mimetype": "text/x-python",
   "name": "python",
   "nbconvert_exporter": "python",
   "pygments_lexer": "ipython3",
   "version": "3.11.4"
  }
 },
 "nbformat": 4,
 "nbformat_minor": 2
}
