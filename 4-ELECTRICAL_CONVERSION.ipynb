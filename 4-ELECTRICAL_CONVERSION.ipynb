{
 "cells": [
  {
   "cell_type": "code",
   "execution_count": null,
   "metadata": {},
   "outputs": [],
   "source": [
    "import math\n",
    "import pandas as pd\n",
    "import scipy.constants as const\n",
    "import scipy.integrate as integrate\n",
    "from scipy.interpolate import interp1d\n",
    "import numpy as np\n",
    "from scipy.integrate import solve_ivp\n",
    "import matplotlib.pyplot as plt\n"
   ]
  },
  {
   "cell_type": "code",
   "execution_count": null,
   "metadata": {},
   "outputs": [],
   "source": [
    "\n",
    "conversion_factor = .689 #describes how efficiency of energy conversion from excetonic to electric (0 - 1) \n",
    "# FACTOR FROM GALLIUM ARSONITE GaAs\n",
    "energy_used = 0 #describes what % of the energy is used for bodily functions like respiration. 1 means that all absorbed energy is used for functioning. 0 means 0%\n",
    "# convert the excitonic rate to an actual energy value\n",
    "\n",
    "def exciton_rate_to_energy(excitonic_rate):\n",
    "    power = excitonic_rate * 15.01e-3 * 1.60218e-19       #power = excitonic rate * coefficient * conversion to watts\n",
    "    return power\n",
    "    \n",
    "# Converts excitonic energy to electric energy\n",
    "# Excitonic energy is valuable but not directly usable by most appliances. We need to convert it into electrical\n",
    "# energy. The efficiency of this conversion process is represented by the factor η, with values between 0 (0%\n",
    "# efficient) and 1 (100% efficient)\n",
    "# Storage Mechanism:\n",
    "# Once converted, the energy is stored in specialized storage cells, similar to batteries. The amount of energy Es\n",
    "# stored at any given time is:\n",
    "\n",
    "def energyConversion(excitonic_energy):\n",
    "    convertedEnergy = excitonic_energy*conversion_factor\n",
    "    usableEnergy = convertedEnergy - (convertedEnergy * energy_used)\n",
    "    return usableEnergy\n",
    "\n",
    "\n"
   ]
  },
  {
   "cell_type": "code",
   "execution_count": null,
   "metadata": {},
   "outputs": [],
   "source": [
    "df_results = pd.read_csv('output.csv')\n",
    "\n",
    "df_results['Excitonic Energy'] = df_results['Final_Exciton_Rate_After_CMC'].apply(exciton_rate_to_energy)\n",
    "df_results['Usable Electric Energy'] = df_results['Excitonic Energy'].apply(energyConversion)\n",
    "\n",
    "\n",
    "df_results.to_csv('output.csv')"
   ]
  },
  {
   "cell_type": "code",
   "execution_count": null,
   "metadata": {},
   "outputs": [],
   "source": [
    "\n",
    "import matplotlib.pyplot as plt\n",
    "\n",
    "plt.figure(figsize=(10, 6))  # Adjust the figure size if needed\n",
    "plt.plot(df_results.index, df_results['Usable Electric Energy'], marker='o', linestyle='-')\n",
    "\n",
    "# Set labels and title\n",
    "plt.xlabel('Hour')\n",
    "plt.ylabel('Usable Electric Energy')\n",
    "plt.title('Usable Electric Energy vs Hour')\n",
    "\n",
    "plt.savefig('Usable_Electric_Energy.png')\n",
    "plt.show()"
   ]
  }
 ],
 "metadata": {
  "language_info": {
   "name": "python"
  }
 },
 "nbformat": 4,
 "nbformat_minor": 2
}
